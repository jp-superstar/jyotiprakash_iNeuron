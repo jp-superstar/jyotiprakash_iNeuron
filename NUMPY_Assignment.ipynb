{
 "cells": [
  {
   "cell_type": "markdown",
   "id": "c0d3c2a5",
   "metadata": {},
   "source": [
    "<b>\n",
    "Write a function so that the columns of the output matrix are powers of the input vector.\n",
    "The order of the powers is determined by the increasing boolean argument. Specifically, when increasing is False, the i-th output column is the input vector raised element-wise to the power of N - i - 1.\n",
    "HINT: Such a matrix with a geometric progression in each row is named for Alexandre-Theophile Vandermonde.</b>"
   ]
  },
  {
   "cell_type": "code",
   "execution_count": 1,
   "id": "3e87f691",
   "metadata": {},
   "outputs": [],
   "source": [
    "import numpy as np"
   ]
  },
  {
   "cell_type": "code",
   "execution_count": 4,
   "id": "1ad02069",
   "metadata": {},
   "outputs": [],
   "source": [
    "def alexTheoVander(iVector, n, increasing = False):\n",
    "    if increasing:\n",
    "        oMatrix = np.matrix([x**i for x in iVector for i in range(n)]).reshape(iVector.size, n)\n",
    "    else:\n",
    "        oMatrix = np.matrix([x**(n-i-1) for x in iVector for i in range(n)]).reshape(iVector.size, n)\n",
    "    return oMatrix"
   ]
  },
  {
   "cell_type": "code",
   "execution_count": 5,
   "id": "8c892389",
   "metadata": {},
   "outputs": [],
   "source": [
    "iVector = np.array([1, 3, 5, 7, 9])\n",
    "n = 5"
   ]
  },
  {
   "cell_type": "code",
   "execution_count": 7,
   "id": "ff845bff",
   "metadata": {},
   "outputs": [
    {
     "data": {
      "text/plain": [
       "matrix([[   1,    1,    1,    1,    1],\n",
       "        [   1,    3,    9,   27,   81],\n",
       "        [   1,    5,   25,  125,  625],\n",
       "        [   1,    7,   49,  343, 2401],\n",
       "        [   1,    9,   81,  729, 6561]])"
      ]
     },
     "execution_count": 7,
     "metadata": {},
     "output_type": "execute_result"
    }
   ],
   "source": [
    "oMtarix_asc = alexTheoVander(iVector, n, True)\n",
    "oMtarix_asc"
   ]
  },
  {
   "cell_type": "code",
   "execution_count": 8,
   "id": "2df752a3",
   "metadata": {},
   "outputs": [
    {
     "data": {
      "text/plain": [
       "matrix([[   1,    1,    1,    1,    1],\n",
       "        [  81,   27,    9,    3,    1],\n",
       "        [ 625,  125,   25,    5,    1],\n",
       "        [2401,  343,   49,    7,    1],\n",
       "        [6561,  729,   81,    9,    1]])"
      ]
     },
     "execution_count": 8,
     "metadata": {},
     "output_type": "execute_result"
    }
   ],
   "source": [
    "oMtarix_desc = alexTheoVander(iVector, n, False)\n",
    "oMtarix_desc"
   ]
  },
  {
   "cell_type": "markdown",
   "id": "2a4b561e",
   "metadata": {},
   "source": [
    "<b>Write a function to find moving average in an array over a window:\n",
    "Test it over [3, 5, 7, 2, 8, 10, 11, 65, 72, 81, 99, 100, 150] and window of 3.\n",
    " </b>"
   ]
  },
  {
   "cell_type": "code",
   "execution_count": 11,
   "id": "54bc5afe",
   "metadata": {},
   "outputs": [],
   "source": [
    "import numpy as np\n",
    "def moving_average(a, n=3) :\n",
    "    x = np.cumsum(a, dtype=float)\n",
    "    x[n:] = x[n:] - x[:-n]\n",
    "    return x[n - 1:] / n"
   ]
  },
  {
   "cell_type": "code",
   "execution_count": 12,
   "id": "faf320ec",
   "metadata": {},
   "outputs": [
    {
     "name": "stdout",
     "output_type": "stream",
     "text": [
      "[  5.           4.66666667   5.66666667   6.66666667   9.66666667\n",
      "  28.66666667  49.33333333  72.66666667  84.          93.33333333\n",
      " 116.33333333]\n"
     ]
    }
   ],
   "source": [
    "a = [3, 5, 7, 2, 8, 10, 11, 65, 72, 81, 99, 100, 150]\n",
    "print(moving_average(a, n=3))"
   ]
  },
  {
   "cell_type": "code",
   "execution_count": null,
   "id": "4d045dbe",
   "metadata": {},
   "outputs": [],
   "source": []
  }
 ],
 "metadata": {
  "kernelspec": {
   "display_name": "Python 3",
   "language": "python",
   "name": "python3"
  },
  "language_info": {
   "codemirror_mode": {
    "name": "ipython",
    "version": 3
   },
   "file_extension": ".py",
   "mimetype": "text/x-python",
   "name": "python",
   "nbconvert_exporter": "python",
   "pygments_lexer": "ipython3",
   "version": "3.8.8"
  }
 },
 "nbformat": 4,
 "nbformat_minor": 5
}
